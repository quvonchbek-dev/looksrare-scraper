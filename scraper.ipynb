{
 "cells": [
  {
   "cell_type": "code",
   "execution_count": 1,
   "metadata": {},
   "outputs": [],
   "source": [
    "from selenium import webdriver\n",
    "from selenium.webdriver.common.by import By\n",
    "from selenium.webdriver.common.desired_capabilities import DesiredCapabilities\n",
    "import json\n",
    "import pprint\n",
    "import time"
   ]
  },
  {
   "cell_type": "code",
   "execution_count": 2,
   "metadata": {},
   "outputs": [
    {
     "name": "stderr",
     "output_type": "stream",
     "text": [
      "C:\\Users\\Intel\\AppData\\Local\\Temp\\ipykernel_8440\\1044050511.py:6: DeprecationWarning: executable_path has been deprecated, please pass in a Service object\n",
      "  driver = webdriver.Chrome(\n"
     ]
    }
   ],
   "source": [
    "url = \"https://looksrare.org/collections\"\n",
    "\n",
    "capabilities = DesiredCapabilities.CHROME\n",
    "capabilities[\"goog:loggingPrefs\"] = {\"performance\": \"ALL\"}  # chromedriver 75+\n",
    "\n",
    "driver = webdriver.Chrome(\n",
    "    r\"chromedriver.exe\",\n",
    "    desired_capabilities=capabilities,\n",
    ")\n",
    "\n",
    "driver.get(url)"
   ]
  },
  {
   "cell_type": "code",
   "execution_count": 5,
   "metadata": {},
   "outputs": [],
   "source": [
    "\n",
    "for i in range(19):\n",
    "    button = driver.find_elements(By.TAG_NAME, \"button\")[-2]\n",
    "    button.click()\n",
    "    time.sleep(3)"
   ]
  },
  {
   "cell_type": "code",
   "execution_count": 6,
   "metadata": {},
   "outputs": [],
   "source": [
    "elements = driver.find_element(By.CLASS_NAME, \"css-1lkdgk4\")"
   ]
  },
  {
   "cell_type": "code",
   "execution_count": 13,
   "metadata": {},
   "outputs": [],
   "source": [
    "with open(\"data.html\", \"w\", encoding=\"utf-8\") as f:\n",
    "    f.write(elements.get_attribute(\"innerHTML\"))\n",
    "    f.close()"
   ]
  },
  {
   "cell_type": "code",
   "execution_count": 10,
   "metadata": {},
   "outputs": [],
   "source": [
    "for a in elements.find_elements(By.TAG_NAME, \"a\"):\n",
    "    for div in a.find_elements(By.TAG_NAME, \"div\"):\n",
    "        print(div.get_attribute(\"innerHTML\"), \"\\n\\n\", file=open(\"index.html\", \"a\"))\n",
    "    break"
   ]
  }
 ],
 "metadata": {
  "kernelspec": {
   "display_name": ".venv",
   "language": "python",
   "name": "python3"
  },
  "language_info": {
   "codemirror_mode": {
    "name": "ipython",
    "version": 3
   },
   "file_extension": ".py",
   "mimetype": "text/x-python",
   "name": "python",
   "nbconvert_exporter": "python",
   "pygments_lexer": "ipython3",
   "version": "3.10.6 (tags/v3.10.6:9c7b4bd, Aug  1 2022, 21:53:49) [MSC v.1932 64 bit (AMD64)]"
  },
  "orig_nbformat": 4,
  "vscode": {
   "interpreter": {
    "hash": "631c2f1bfbe77c37ca995783410f3f7b8c398d9e2c1aa9d0af91c443acba99b9"
   }
  }
 },
 "nbformat": 4,
 "nbformat_minor": 2
}
